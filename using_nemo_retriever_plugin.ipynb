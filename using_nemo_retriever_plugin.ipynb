{
 "cells": [
  {
   "cell_type": "markdown",
   "metadata": {},
   "source": [
    "# Example using NeMo Retriever Parse Plugin\n",
    "\n",
    "First, download a Dataset of pdf images:"
   ]
  },
  {
   "cell_type": "code",
   "execution_count": 1,
   "metadata": {},
   "outputs": [
    {
     "name": "stdout",
     "output_type": "stream",
     "text": [
      "Downloading config file fiftyone.yml from harpreetsahota/CVPR_2024_Papers_with_Embeddings\n",
      "Loading dataset\n",
      "Importing samples...\n",
      " 100% |█████████████████████| 3/3 [2.4ms elapsed, 0s remaining, 1.3K samples/s]      \n",
      "Migrating dataset 'cvpr_papers' to v1.3.1\n"
     ]
    }
   ],
   "source": [
    "import fiftyone as fo\n",
    "import fiftyone.utils.huggingface as fouh\n",
    "\n",
    "\n",
    "dataset = fouh.load_from_hub(\n",
    "    \"harpreetsahota/CVPR_2024_Papers_with_Embeddings\",\n",
    "    name=\"cvpr_papers\",\n",
    "    max_samples=3,\n",
    "    overwrite=True\n",
    "    )"
   ]
  },
  {
   "cell_type": "markdown",
   "metadata": {},
   "source": [
    "Then download the plugin:"
   ]
  },
  {
   "cell_type": "code",
   "execution_count": 2,
   "metadata": {},
   "outputs": [
    {
     "name": "stdout",
     "output_type": "stream",
     "text": [
      "Downloading harpreetsahota204/nemo_retriever_parse_plugin...\n",
      "  123.7Kb [48.7ms elapsed, ? remaining, 2.5Mb/s] \n",
      "Copying plugin '@harpreetsahota/nemo_retriever_parse' to '/home/harpreet/fiftyone/__plugins__/@harpreetsahota/nemo_retriever_parse'\n"
     ]
    }
   ],
   "source": [
    "!fiftyone plugins download https://github.com/harpreetsahota204/nemo_retriever_parse_plugin"
   ]
  },
  {
   "cell_type": "markdown",
   "metadata": {},
   "source": [
    "Make sure you have the requirements downloaded (in this case it's just `fiftyone` and `tqdm`):"
   ]
  },
  {
   "cell_type": "code",
   "execution_count": null,
   "metadata": {},
   "outputs": [],
   "source": [
    "!fiftyone plugins requirements @harpreetsahota/nemo_retriever_parse --install"
   ]
  },
  {
   "cell_type": "markdown",
   "metadata": {},
   "source": [
    "You'll need an NVIDIA API Key for this plugin. You can get one by following [this link](https://nvda.ws/3LspiUP). Then set it to the environment variable `NVIDIA_API_KEY`.\n",
    "\n",
    "Alternatively, you can directly pass your NVIDIA API Key:"
   ]
  },
  {
   "cell_type": "code",
   "execution_count": 3,
   "metadata": {},
   "outputs": [],
   "source": [
    "from getpass import getpass\n",
    "\n",
    "NVIDIA_API_KEY = getpass(\"Enter your NVIDIA API key: \")"
   ]
  },
  {
   "cell_type": "markdown",
   "metadata": {},
   "source": [
    "Then you'll need to instantiate the operator:"
   ]
  },
  {
   "cell_type": "code",
   "execution_count": 4,
   "metadata": {},
   "outputs": [
    {
     "name": "stdout",
     "output_type": "stream",
     "text": [
      "Python version is above 3.10, patching the collections module.\n"
     ]
    },
    {
     "name": "stderr",
     "output_type": "stream",
     "text": [
      "/home/harpreet/miniconda3/envs/fiftyone/lib/python3.11/site-packages/transformers/models/auto/image_processing_auto.py:602: FutureWarning: The image_processor_class argument is deprecated and will be removed in v4.42. Please use `slow_image_processor_class`, or `fast_image_processor_class` instead\n",
      "  warnings.warn(\n"
     ]
    }
   ],
   "source": [
    "import fiftyone.operators as foo\n",
    "\n",
    "nemo_parser = foo.get_operator(\"@harpreetsahota/nemo_retriever_parse/run_nemo_retriever_parse\")"
   ]
  },
  {
   "cell_type": "markdown",
   "metadata": {},
   "source": [
    "When running in a notebook you follow these steps:\n",
    "\n",
    "1. Ensure that you have set the environment variable `os.environ['FIFTYONE_ALLOW_LEGACY_ORCHESTRATORS'] = 'true'` (or set in the same terminal enviornment where you launch the app from)\n",
    "\n",
    "2. Kick off a Delegated Service by opening your terminal and executing `fiftyone delegated launch`\n",
    "\n",
    "3. Use the `await` syntax and pass `delegate=True` into your operator calls, as shown below:"
   ]
  },
  {
   "cell_type": "code",
   "execution_count": 5,
   "metadata": {},
   "outputs": [
    {
     "data": {
      "text/plain": [
       "<fiftyone.operators.executor.ExecutionResult at 0x7c06d3157290>"
      ]
     },
     "execution_count": 5,
     "metadata": {},
     "output_type": "execute_result"
    }
   ],
   "source": [
    "import os\n",
    "\n",
    "os.environ['FIFTYONE_ALLOW_LEGACY_ORCHESTRATORS'] = 'true'\n",
    "\n",
    "await nemo_parser(\n",
    "    dataset, #whatever your dataset is\n",
    "    api_key=NVIDIA_API_KEY,\n",
    "    delegate=True\n",
    "    )"
   ]
  },
  {
   "cell_type": "markdown",
   "metadata": {},
   "source": [
    "You can view your results in the App:"
   ]
  },
  {
   "cell_type": "code",
   "execution_count": null,
   "metadata": {},
   "outputs": [],
   "source": [
    "session = fo.launch_app(dataset)"
   ]
  },
  {
   "cell_type": "code",
   "execution_count": null,
   "metadata": {},
   "outputs": [],
   "source": [
    "session.freeze()"
   ]
  }
 ],
 "metadata": {
  "kernelspec": {
   "display_name": "fiftyone",
   "language": "python",
   "name": "python3"
  },
  "language_info": {
   "codemirror_mode": {
    "name": "ipython",
    "version": 3
   },
   "file_extension": ".py",
   "mimetype": "text/x-python",
   "name": "python",
   "nbconvert_exporter": "python",
   "pygments_lexer": "ipython3",
   "version": "3.11.0"
  }
 },
 "nbformat": 4,
 "nbformat_minor": 2
}
